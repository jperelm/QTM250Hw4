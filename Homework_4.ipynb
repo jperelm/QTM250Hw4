{
  "nbformat": 4,
  "nbformat_minor": 0,
  "metadata": {
    "colab": {
      "name": "Homework 4.ipynb",
      "provenance": []
    },
    "kernelspec": {
      "name": "python3",
      "display_name": "Python 3"
    },
    "language_info": {
      "name": "python"
    }
  },
  "cells": [
    {
      "cell_type": "markdown",
      "metadata": {
        "id": "BpbKbt5JVYhz"
      },
      "source": [
        "# **Testing Google Translate Accuracy**\n",
        "\n",
        "![Poorly translated shirts](https://justsomething.co/wp-content/uploads/2015/07/bad-asian-translations-on-shirts-14.jpg)"
      ]
    },
    {
      "cell_type": "markdown",
      "metadata": {
        "id": "NafyZdW-VAzU"
      },
      "source": [
        "# Introduction\n",
        "Language is a major part of human communication and sets us apart from every other species on the planet. According to Ethnologue, there are over 7,000 languages spoken in the world today (“How Many Languages Are There in the World?”). \n",
        "\n",
        "Throughout history, linguists and translators have put thousands of hours of work into translating from one language to another in order to connect people across the globe and improve communication between countries and cultures. Luckily for us living in 2021, we live in a world where machines are able to translate text or speech from one language to another in milliseconds. \n",
        "\n",
        "However, these translations are not always perfect. The images above show translations-gone-wrong when t-shirt designers attempted to translate from their native language to English. Though these images are comical, they make us ponder the accuracy of such machine learning translators.\n",
        "\n",
        "Using the Google Translate machine learning API (insert link), we will assess the accuracy of the translator by translating 3 sentences of various difficulties from English to six languages, then back to English again. \n",
        "\n",
        "**Hypothesis: We hypothesize that languages with closer roots to English will have a higher translation accuracy than languages farther removed from English due to similarties of grammar and syntax.** \n"
      ]
    },
    {
      "cell_type": "markdown",
      "metadata": {
        "id": "SrH4aZFxXoLA"
      },
      "source": [
        "# Methods\n",
        "We will present the ML API translator with three sentences of increasing levels of difficulty:\n",
        "1. Easy - \"This is an introduction to computer science class.\"\n",
        "\n",
        "2. Medium - (From the Emory University Motto): “The wise heart seeks knowledge.”\n",
        "\n",
        "3. Difficult - (From the Emory Alma Mater): \"In the heart of dear old Emory where the sun doth shine, that is where our hearts are turning 'Round old Emory's shrine.\n",
        "\n",
        "We will take each of these sentences in English, a European - Germanic language, and translate to each of the following languages:\n",
        "\n",
        "1. German (European, Germanic)\n",
        "2. Spanish (European, Ibero-Romance)\n",
        "3. Russian (European, Slavic)\n",
        "4. Hindi (Indo-Iranian, Indic)\n",
        "5. Persian (Indo-Iranian, Iranian)\n",
        "6. Hungarian (Uralic, Ugric)\n",
        "\n",
        "Following this, we will translate the sentence once again into English. Then, we will assess the amount to which the ML API translator was able to recapture the original sentence in English.\n"
      ]
    },
    {
      "cell_type": "markdown",
      "metadata": {
        "id": "9lxR4OqnZALb"
      },
      "source": [
        "# Machine Learning API"
      ]
    },
    {
      "cell_type": "markdown",
      "metadata": {
        "id": "2DMay47S-wVE"
      },
      "source": [
        "First, we have to set up the API."
      ]
    },
    {
      "cell_type": "code",
      "metadata": {
        "colab": {
          "base_uri": "https://localhost:8080/"
        },
        "id": "Eeuwr6EG3AoL",
        "outputId": "bd74b6e5-1552-48c7-81f2-302bc7b84ffc"
      },
      "source": [
        "import getpass\n",
        "\n",
        "APIKEY = getpass.getpass()"
      ],
      "execution_count": null,
      "outputs": [
        {
          "output_type": "stream",
          "text": [
            "··········\n"
          ],
          "name": "stdout"
        }
      ]
    },
    {
      "cell_type": "markdown",
      "metadata": {
        "id": "jcDpz9A6_gBZ"
      },
      "source": [
        "Next, we invoke the Translate API and set up the environment to pull the sentences for the '.txt' files in stored in Google Cloud. The Google Application Credentials reflects a service account JSON uploaded to the notebook."
      ]
    },
    {
      "cell_type": "code",
      "metadata": {
        "id": "gUBZoaaP3Rpc"
      },
      "source": [
        "# import build\n",
        "from googleapiclient.discovery import build\n",
        "service = build('translate', 'v2', developerKey=APIKEY)\n",
        "\n",
        "#Import operating system and language v1\n",
        "import os\n",
        "from google.cloud import language_v1\n",
        "from google.cloud.language_v1 import enums\n",
        "\n",
        "os.environ['GOOGLE_APPLICATION_CREDENTIALS'] = \"/content/premium-apex-303114-2a44ede94528.json\"\n",
        "\n",
        "client = language_v1.LanguageServiceClient()\n"
      ],
      "execution_count": null,
      "outputs": []
    },
    {
      "cell_type": "markdown",
      "metadata": {
        "id": "JP4nmPpIRlat"
      },
      "source": [
        "Then, we can store information and variables in preparation to make the request from Google Cloud."
      ]
    },
    {
      "cell_type": "code",
      "metadata": {
        "id": "DVHEIUNoRk28"
      },
      "source": [
        "type_ = enums.Document.Type.PLAIN_TEXT\n",
        "gcs_content_uri1 = 'gs://web-page-meganj/Sentence1.txt'\n",
        "gcs_content_uri2 = 'gs://web-page-meganj/Sentence2.txt'\n",
        "gcs_content_uri3 = 'gs://web-page-meganj/Sentence3.txt'\n",
        "type_ = enums.Document.Type.PLAIN_TEXT\n",
        "language = 'en'\n",
        "\n",
        "#store the 3 text files\n",
        "document1 = {\"gcs_content_uri\": gcs_content_uri1, \"type\": type_, \"language\": language}\n",
        "document2 = {\"gcs_content_uri\": gcs_content_uri2, \"type\": type_, \"language\": language}\n",
        "document3 = {\"gcs_content_uri\": gcs_content_uri3, \"type\": type_, \"language\": language}"
      ],
      "execution_count": null,
      "outputs": []
    },
    {
      "cell_type": "markdown",
      "metadata": {
        "id": "2At8KwIHSBrY"
      },
      "source": [
        "Then, we make the request from Google Cloud for each of the 3 sentences we will analyze."
      ]
    },
    {
      "cell_type": "code",
      "metadata": {
        "id": "SF0dqnLGSA70"
      },
      "source": [
        "response1 = client.analyze_sentiment(document1, encoding_type=enums.EncodingType.UTF8)\n",
        "response2 = client.analyze_sentiment(document2, encoding_type=enums.EncodingType.UTF8)\n",
        "response3 = client.analyze_sentiment(document3, encoding_type=enums.EncodingType.UTF8)"
      ],
      "execution_count": null,
      "outputs": []
    },
    {
      "cell_type": "markdown",
      "metadata": {
        "id": "W__h8BFFTXgB"
      },
      "source": [
        "Next, we store the sentences in an input array to run through the API."
      ]
    },
    {
      "cell_type": "code",
      "metadata": {
        "colab": {
          "base_uri": "https://localhost:8080/"
        },
        "id": "rr9loW4JRygb",
        "outputId": "582f8c4e-22ef-4ebc-9b52-a7b2d4250e37"
      },
      "source": [
        "inputs = []\n",
        "inputs.append(response1.sentences[0].text.content)\n",
        "inputs.append(response2.sentences[0].text.content)\n",
        "inputs.append(response3.sentences[0].text.content)\n",
        "inputs\n",
        "#inputs = ['In the heart of dear old Emory Where the sun doth shine, That is where our hearts are turning Round old Emory shrine.', 'The wise heart seeks knowledge', 'This is an introduction to computer science class']"
      ],
      "execution_count": null,
      "outputs": [
        {
          "output_type": "execute_result",
          "data": {
            "text/plain": [
              "['In the heart of dear old Emory Where the sun doth shine, That is where our hearts are turning Round old Emory shrine.',\n",
              " 'The wise heart seeks knowledge',\n",
              " 'This is an introduction to computer science class']"
            ]
          },
          "metadata": {
            "tags": []
          },
          "execution_count": 25
        }
      ]
    },
    {
      "cell_type": "markdown",
      "metadata": {
        "id": "Sh6vQlDuTdb8"
      },
      "source": [
        "Then, we create arrays with the languages to use in the API."
      ]
    },
    {
      "cell_type": "code",
      "metadata": {
        "id": "gN7qXWh5NlWE"
      },
      "source": [
        "languagesab = ['de', 'es', 'ru', 'hi', 'fa', 'hu']\n",
        "languages = ['German', 'Spanish', 'Russian', 'Hindi', 'Persian', 'Hungarian']"
      ],
      "execution_count": null,
      "outputs": []
    },
    {
      "cell_type": "markdown",
      "metadata": {
        "id": "gLwBA4wu_24L"
      },
      "source": [
        "Next, we use a 'for' loop to move through each language. We can use the Translate API to translate each sentence input. Then, the results are saved into a new array (outputlist), which is translated back to English. The results are printed using a for loop to move through each input sentence.\n",
        "\n",
        "We translated 3 sentences in each language. The first one, alma mater, is from Emory's school alma mater: 'In the heart of dear old Emory Where the sun doth shine, That is where our hearts are turning Round old Emory shrine.' The second sentence, motto, is Emory's school motto: 'The wise heart seeks knowledge'. The final sentence, class, is a simple sentence about QTM 250: 'This is an introduction to computer science class'."
      ]
    },
    {
      "cell_type": "code",
      "metadata": {
        "colab": {
          "base_uri": "https://localhost:8080/"
        },
        "id": "2qjxvkBn42VQ",
        "outputId": "1c1bbaa5-0357-405b-cb3e-aa4d3b041187"
      },
      "source": [
        "# use the service for each language\n",
        "for langab, lang in zip(languagesab, languages):\n",
        "  print(lang)\n",
        "  outputs = service.translations().list(source='en', target=langab, q=inputs).execute()\n",
        "  outputlist = []\n",
        "# save the outputs into a new list\n",
        "  for key in outputs['translations']:\n",
        "      outputlist.append(key['translatedText'])\n",
        "  finaloutputs = service.translations().list(source=langab, target='en', q=outputlist).execute()\n",
        "# print outputs\n",
        "  for input, output, foutput in zip(inputs, outputlist, finaloutputs['translations'] ):\n",
        "    print(u\"{0} -> {1} -> {2}\".format(input, output, foutput['translatedText']))"
      ],
      "execution_count": null,
      "outputs": [
        {
          "output_type": "stream",
          "text": [
            "German\n",
            "In the heart of dear old Emory Where the sun doth shine, That is where our hearts are turning Round old Emory shrine. -> Im Herzen des lieben alten Emory Wo die Sonne scheint, drehen sich unsere Herzen um den alten Emory-Schrein. -> In the heart of dear old Emory Where the sun shines our hearts revolve around the old Emory shrine.\n",
            "The wise heart seeks knowledge -> Das weise Herz sucht Wissen -> The wise heart seeks knowledge\n",
            "This is an introduction to computer science class -> Dies ist eine Einführung in den Informatikunterricht -> This is an introduction to computer science classes\n",
            "Spanish\n",
            "In the heart of dear old Emory Where the sun doth shine, That is where our hearts are turning Round old Emory shrine. -> En el corazón de la querida Emory, donde brilla el sol, ahí es donde nuestros corazones giran alrededor del antiguo santuario de Emory. -> In the heart of beloved Emory, where the sun shines, that&#39;s where our hearts revolve around the ancient Emory shrine.\n",
            "The wise heart seeks knowledge -> El corazón sabio busca el conocimiento -> The wise heart seeks knowledge\n",
            "This is an introduction to computer science class -> Esta es una introducción a la clase de informática. -> This is an introduction to computer science class.\n",
            "Russian\n",
            "In the heart of dear old Emory Where the sun doth shine, That is where our hearts are turning Round old Emory shrine. -> В самом сердце дорогого старого Эмори, Где светит солнце, Вот где наши сердца вращаются вокруг старого святилища Эмори. -> In the heart of dear old Emory, Where the sun shines, This is where our hearts revolve around the old Emory shrine.\n",
            "The wise heart seeks knowledge -> Мудрое сердце ищет знания -> A wise heart seeks knowledge\n",
            "This is an introduction to computer science class -> Это введение в класс информатики -> This is an introduction to a computer science class\n",
            "Hindi\n",
            "In the heart of dear old Emory Where the sun doth shine, That is where our hearts are turning Round old Emory shrine. -> प्यारे बूढ़े एमोरी के दिल में जहाँ सूरज की किरणें चमकती हैं, वहीँ हमारे दिलों में पुराने दौर की इबादतगाह बन रहे हैं। -> Where the rays of the sun shines in the heart of the dear old Emory, the old era prayers are being built in our hearts.\n",
            "The wise heart seeks knowledge -> ज्ञानी हृदय ज्ञान चाहता है -> The knowledgeable heart wants knowledge\n",
            "This is an introduction to computer science class -> यह कंप्यूटर विज्ञान वर्ग के लिए एक परिचय है -> This is an introduction to computer science class\n",
            "Persian\n",
            "In the heart of dear old Emory Where the sun doth shine, That is where our hearts are turning Round old Emory shrine. -> در قلب Emory قدیمی عزیز ، جایی که خورشید می درخشد ، آنجاست که قلب های ما به دور مزار Emory قدیمی می چرخند. -> In the heart of dear old Emory, where the sun shines, is where our hearts revolve around the tomb of old Emory.\n",
            "The wise heart seeks knowledge -> قلب خردمند به دنبال دانش است -> The wise heart seeks knowledge\n",
            "This is an introduction to computer science class -> این مقدمه ای برای کلاس علوم کامپیوتر است -> This is an introduction to the computer science class\n",
            "Hungarian\n",
            "In the heart of dear old Emory Where the sun doth shine, That is where our hearts are turning Round old Emory shrine. -> A kedves öreg Emory szívében Ahol süt a nap, Itt fordul meg a szívünk a régi Emory szentély körül. -> In the heart of the dear old Emory Where the sun shines, Here our hearts turn around the old shrine of Emory.\n",
            "The wise heart seeks knowledge -> A bölcs szív ismereteket keres -> The wise heart seeks knowledge\n",
            "This is an introduction to computer science class -> Ez egy bemutatkozás az informatika órára -> This is an introduction to the IT class\n"
          ],
          "name": "stdout"
        }
      ]
    },
    {
      "cell_type": "markdown",
      "metadata": {
        "id": "IIN9cmqDoovC"
      },
      "source": [
        "After translating the sentences, we determined if the final English translation retained its original meaning (TRUE or FALSE). We then rated the translation's usefulness on a scale of 1 to 4 (1 = meaningless translation, 2 = close translation with meaning lost, 3 = close translation with meaning retained, 4 = exact translation)\n",
        "\n",
        "[Data Table](https://docs.google.com/spreadsheets/d/1GBEVlFydUrXVf3-2Hy0bYtxQMushKhFSIKk8fVwNqgA/edit?usp=sharing)"
      ]
    },
    {
      "cell_type": "markdown",
      "metadata": {
        "id": "a1SzAujWQo8a"
      },
      "source": [
        "# Data Analysis\n",
        "![chart](https://docs.google.com/spreadsheets/d/e/2PACX-1vT_4822CqlNWsWiGS217CZEuAawpCOQbf6MZV491jUN_FzaPHfns3YqQY53VHXhcdtJi3m3OBX0bEFi/pubchart?oid=884285617&format=image)\n"
      ]
    },
    {
      "cell_type": "markdown",
      "metadata": {
        "id": "uHLvjtx1oOrJ"
      },
      "source": [
        "Looking at the graph above, of the six languages that translated the three English sentences, Spanish had the highest collective score of closest translations (4, 4, 3) for the Class, Motto, and Alma Mater sentences, respectively. German, Russian, and Persian tied for second closest overall translation accuracy with scores of (3, 4, 3), (4, 3, 3), (4, 4, 2) for the Class, Motto, and Alma Mater translations, respectively. Persian scored 4s on both the Class and Motto sentence, but fell short with the Alma Mater score of 2. Next is Hungarian with a total of 9 points, scoring a (2, 4, 3. In last place with the least accurate translations is Hindi, with a score of (4, 2, 1) respectively.\n",
        "\n",
        "Also, four of six languages (Spanish, Russian, Hindi, Persian) translated the first sentence with exact translation; however, two languages (German and Hungarian) could not translate the first sentence with exact translation, but they both translated the second sentence with exact translation, which is interesting since the first sentence (the Class sentence) is supposed to be easier than the second sentence (the Motto sentence). "
      ]
    },
    {
      "cell_type": "markdown",
      "metadata": {
        "id": "MHXipwYvQsAU"
      },
      "source": [
        "# Conclusion\n",
        "Our hypothesis of languages with closer roots to English having a higher translation accuracy compared to languages with farther roots to English was supported by the data. The language that retained the original meaning of the sentences the best was Spanish with the languages German and Russian following close behind. The language Persian also shared the same composite score as German and Russian; however, the Alma Mater sentence was translated closely with meaning lost in Persian.\n",
        "\n",
        "The languages that retained the original meaning for all the sentences that were translated have European roots, and the languages that translated some sentences while losing the meaning have Indo-Iranian or Uralic roots. Although no language got a perfect composite score, the languages with European roots always kept the meaning of the original sentences intact; whereas, some meaning was lost of some sentences translated by languages with Indo-Iranian or Uralic roots. However, all languages, regardless of their roots, was able to translate at least one sentence exactly."
      ]
    },
    {
      "cell_type": "markdown",
      "metadata": {
        "id": "4oxkSkCxVJAA"
      },
      "source": [
        "# [GitHub Repo](https://github.com/jperelm/QTM250Hw4)\n"
      ]
    },
    {
      "cell_type": "markdown",
      "metadata": {
        "id": "M_3vo8imVLQF"
      },
      "source": [
        "# [Architecture diagram](https://github.com/jperelm/QTM250Hw4/blob/main/ArchDiagram.PNG)"
      ]
    },
    {
      "cell_type": "markdown",
      "metadata": {
        "id": "2OK_UmP2iS9Z"
      },
      "source": [
        "# References\n",
        "1. “How Many Languages Are There in the World?” Ethnologue, 3 May 2016, https://www.ethnologue.com/guides/how-many-languages.\n"
      ]
    }
  ]
}